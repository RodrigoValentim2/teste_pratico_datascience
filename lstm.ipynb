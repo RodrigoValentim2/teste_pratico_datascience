{
 "cells": [
  {
   "cell_type": "markdown",
   "metadata": {},
   "source": [
    "# Este notebook foi executado na plataforma Kaggle, pois lá oferece uma GPU e uma maior quantidade de memória."
   ]
  },
  {
   "cell_type": "code",
   "execution_count": 2,
   "metadata": {},
   "outputs": [
    {
     "name": "stderr",
     "output_type": "stream",
     "text": [
      "Using TensorFlow backend.\n"
     ]
    }
   ],
   "source": [
    "import pandas as pd\n",
    "import numpy as np\n",
    "\n",
    "import random\n",
    "from sklearn import metrics\n",
    "from keras.preprocessing.text import Tokenizer\n",
    "from keras.preprocessing.sequence import pad_sequences\n",
    "import keras\n",
    "from keras.preprocessing.text import text_to_word_sequence\n",
    "from keras.models import Model\n",
    "from sklearn.model_selection import train_test_split\n",
    "from keras.layers import Input\n",
    "from keras.layers import Dense\n",
    "from keras.layers import Embedding\n",
    "from keras.layers import LSTM\n",
    "import matplotlib.pyplot as plt\n",
    "\n",
    "import warnings\n",
    "warnings.simplefilter(\"ignore\", UserWarning)\n",
    "pd.set_option('mode.chained_assignment', None)\n",
    "seed = 7\n",
    "np.random.seed(seed)\n"
   ]
  },
  {
   "cell_type": "markdown",
   "metadata": {},
   "source": [
    "# O objetivo deste notebook é treinar uma rede neural LSTM para a resolução do problema.\n",
    "* Resultados:\n",
    "* * Este modelo obtve uma acurácia final de 0.86, entretanto, um loss bastante alto.\n",
    "* * Possíveis soluções? Utilizar uma rede bidireconal com o Glove."
   ]
  },
  {
   "cell_type": "markdown",
   "metadata": {},
   "source": [
    "# Leitura dos dados"
   ]
  },
  {
   "cell_type": "code",
   "execution_count": 4,
   "metadata": {},
   "outputs": [],
   "source": [
    "df = pd.read_csv(\"Outputs/data1.csv\", sep=\",\")"
   ]
  },
  {
   "cell_type": "code",
   "execution_count": 5,
   "metadata": {},
   "outputs": [
    {
     "data": {
      "text/html": [
       "<div>\n",
       "<style scoped>\n",
       "    .dataframe tbody tr th:only-of-type {\n",
       "        vertical-align: middle;\n",
       "    }\n",
       "\n",
       "    .dataframe tbody tr th {\n",
       "        vertical-align: top;\n",
       "    }\n",
       "\n",
       "    .dataframe thead th {\n",
       "        text-align: right;\n",
       "    }\n",
       "</style>\n",
       "<table border=\"1\" class=\"dataframe\">\n",
       "  <thead>\n",
       "    <tr style=\"text-align: right;\">\n",
       "      <th></th>\n",
       "      <th>Unnamed: 0</th>\n",
       "      <th>Id</th>\n",
       "      <th>IdSentenca</th>\n",
       "      <th>Texto</th>\n",
       "      <th>Sentimento</th>\n",
       "    </tr>\n",
       "  </thead>\n",
       "  <tbody>\n",
       "    <tr>\n",
       "      <th>0</th>\n",
       "      <td>0</td>\n",
       "      <td>1</td>\n",
       "      <td>1</td>\n",
       "      <td>series escapades demonstrating adage good goos...</td>\n",
       "      <td>1</td>\n",
       "    </tr>\n",
       "    <tr>\n",
       "      <th>1</th>\n",
       "      <td>1</td>\n",
       "      <td>2</td>\n",
       "      <td>1</td>\n",
       "      <td>series escapades demonstrating adage good goose</td>\n",
       "      <td>2</td>\n",
       "    </tr>\n",
       "    <tr>\n",
       "      <th>2</th>\n",
       "      <td>2</td>\n",
       "      <td>3</td>\n",
       "      <td>1</td>\n",
       "      <td>series</td>\n",
       "      <td>2</td>\n",
       "    </tr>\n",
       "    <tr>\n",
       "      <th>3</th>\n",
       "      <td>4</td>\n",
       "      <td>5</td>\n",
       "      <td>1</td>\n",
       "      <td>series</td>\n",
       "      <td>2</td>\n",
       "    </tr>\n",
       "    <tr>\n",
       "      <th>4</th>\n",
       "      <td>5</td>\n",
       "      <td>6</td>\n",
       "      <td>1</td>\n",
       "      <td>escapades demonstrating adage good goose</td>\n",
       "      <td>2</td>\n",
       "    </tr>\n",
       "    <tr>\n",
       "      <th>5</th>\n",
       "      <td>7</td>\n",
       "      <td>8</td>\n",
       "      <td>1</td>\n",
       "      <td>escapades demonstrating adage good goose</td>\n",
       "      <td>2</td>\n",
       "    </tr>\n",
       "    <tr>\n",
       "      <th>6</th>\n",
       "      <td>8</td>\n",
       "      <td>9</td>\n",
       "      <td>1</td>\n",
       "      <td>escapades</td>\n",
       "      <td>2</td>\n",
       "    </tr>\n",
       "    <tr>\n",
       "      <th>7</th>\n",
       "      <td>9</td>\n",
       "      <td>10</td>\n",
       "      <td>1</td>\n",
       "      <td>demonstrating adage good goose</td>\n",
       "      <td>2</td>\n",
       "    </tr>\n",
       "    <tr>\n",
       "      <th>8</th>\n",
       "      <td>10</td>\n",
       "      <td>11</td>\n",
       "      <td>1</td>\n",
       "      <td>demonstrating adage</td>\n",
       "      <td>2</td>\n",
       "    </tr>\n",
       "    <tr>\n",
       "      <th>9</th>\n",
       "      <td>11</td>\n",
       "      <td>12</td>\n",
       "      <td>1</td>\n",
       "      <td>demonstrating</td>\n",
       "      <td>2</td>\n",
       "    </tr>\n",
       "  </tbody>\n",
       "</table>\n",
       "</div>"
      ],
      "text/plain": [
       "   Unnamed: 0  Id  IdSentenca  \\\n",
       "0           0   1           1   \n",
       "1           1   2           1   \n",
       "2           2   3           1   \n",
       "3           4   5           1   \n",
       "4           5   6           1   \n",
       "5           7   8           1   \n",
       "6           8   9           1   \n",
       "7           9  10           1   \n",
       "8          10  11           1   \n",
       "9          11  12           1   \n",
       "\n",
       "                                               Texto  Sentimento  \n",
       "0  series escapades demonstrating adage good goos...           1  \n",
       "1    series escapades demonstrating adage good goose           2  \n",
       "2                                             series           2  \n",
       "3                                             series           2  \n",
       "4           escapades demonstrating adage good goose           2  \n",
       "5           escapades demonstrating adage good goose           2  \n",
       "6                                          escapades           2  \n",
       "7                     demonstrating adage good goose           2  \n",
       "8                                demonstrating adage           2  \n",
       "9                                      demonstrating           2  "
      ]
     },
     "execution_count": 5,
     "metadata": {},
     "output_type": "execute_result"
    }
   ],
   "source": [
    "df.head(10)"
   ]
  },
  {
   "cell_type": "markdown",
   "metadata": {},
   "source": [
    "# Preparando os dados e os parâmetros para a rede"
   ]
  },
  {
   "cell_type": "code",
   "execution_count": 24,
   "metadata": {},
   "outputs": [],
   "source": [
    "# dimensionalidade do word embedding pré-treinado\n",
    "word_embedding_dim = 50\n",
    "# número de amostras a serem utilizadas em cada atualização do gradiente\n",
    "batch_size = 300\n",
    "# Reflete a quantidade máxima de palavras que iremos manter no vocabulário\n",
    "max_fatures = 5000\n",
    "# dimensão de saída da camada Embedding\n",
    "embed_dim = 128\n",
    "# limitamos o tamanho máximo de todas as sentenças\n",
    "max_sequence_length = 300\n",
    "\n",
    "\n",
    "def prepare_data(data, label = None, test=False):    \n",
    "\n",
    "    \n",
    "    text = []\n",
    "    for row in data['Texto'].values:\n",
    "        text.append(row)\n",
    "\n",
    "    tokenizer = Tokenizer(num_words=max_fatures, split=' ')\n",
    "    tokenizer.fit_on_texts(text)\n",
    "    X = tokenizer.texts_to_sequences(text)  \n",
    "    \n",
    "    X = pad_sequences(X, maxlen=max_sequence_length)\n",
    "    #X = pad_sequences(X)\n",
    "\n",
    "    word_index = tokenizer.word_index\n",
    "    #Y = pd.get_dummies(data[label]).values\n",
    "    \n",
    "    Y = pd.get_dummies(data[\"Sentimento\"].values)\n",
    "    if test == True:\n",
    "        return X, word_index, tokenizer\n",
    "    else:\n",
    "        #Y = pd.get_dummies(data[labels]).values\n",
    "        X_train, X_test, Y_train, Y_test = train_test_split(X,Y, test_size = 0.20, random_state = 42)\n",
    "    \n",
    "        X_train, X_val, Y_train, Y_val = train_test_split(X_train,Y_train, test_size = 0.10, random_state = 42)\n",
    "        return X_train, X_test, Y_train, Y_test, word_index, X_val, Y_val, tokenizer\n",
    "\n"
   ]
  },
  {
   "cell_type": "markdown",
   "metadata": {},
   "source": [
    "# Definição do modelo\n",
    "* Uma camada de embedding\n",
    "* Uma LSTM"
   ]
  },
  {
   "cell_type": "code",
   "execution_count": 25,
   "metadata": {},
   "outputs": [],
   "source": [
    "def model():  \n",
    "    input_shape = (max_sequence_length,)\n",
    "    model_input = Input(shape=input_shape, name=\"input\", dtype='int32')    \n",
    "    embedding = Embedding(max_fatures, embed_dim, input_length=max_sequence_length, name=\"embedding\")(model_input)   \n",
    "    lstm = LSTM(embed_dim, dropout=0.2, recurrent_dropout=0.2, name=\"lstm\")(embedding)\n",
    "    \n",
    "    model_output = Dense(5, activation='sigmoid', name=\"sigmoid\")(lstm)\n",
    "    model = Model(inputs=model_input, outputs=model_output)\n",
    "    return model"
   ]
  },
  {
   "cell_type": "markdown",
   "metadata": {},
   "source": [
    "# Treinamento e Plot dos gráficos"
   ]
  },
  {
   "cell_type": "code",
   "execution_count": 26,
   "metadata": {},
   "outputs": [],
   "source": [
    "def train(model, X_train, Y_train, X_val, Y_val):\n",
    "\n",
    "    history = model.fit(\n",
    "        X_train, \n",
    "        Y_train, \n",
    "        validation_data=(X_val, Y_val),\n",
    "        epochs=20,\n",
    "        batch_size=3000, \n",
    "        shuffle=True,\n",
    "        verbose=1)  \n",
    "\n",
    "    # Plot\n",
    "    \n",
    "    acc = history.history['acc']\n",
    "    val_acc = history.history['val_acc']\n",
    "    loss = history.history['loss']\n",
    "    val_loss = history.history['val_loss']\n",
    "    epochs = range(1, len(acc) + 1)\n",
    "    plt.plot(epochs, acc, 'bo', label='Training acc')\n",
    "    plt.plot(epochs, val_acc, 'b', label='Validation acc')\n",
    "    plt.title('Training and validation accuracy')\n",
    "    plt.legend()\n",
    "    plt.figure()\n",
    "    plt.plot(epochs, loss, 'bo', label='Training loss')\n",
    "    plt.plot(epochs, val_loss, 'b', label='Validation loss')\n",
    "    plt.title('Training and validation loss')\n",
    "    plt.legend()\n",
    "    plt.show()\n",
    "    return model\n"
   ]
  },
  {
   "cell_type": "code",
   "execution_count": 27,
   "metadata": {},
   "outputs": [
    {
     "name": "stdout",
     "output_type": "stream",
     "text": [
      "(111330, 300) (111330, 5)\n",
      "(30925, 300) (30925, 5)\n",
      "_________________________________________________________________\n",
      "Layer (type)                 Output Shape              Param #   \n",
      "=================================================================\n",
      "input (InputLayer)           (None, 300)               0         \n",
      "_________________________________________________________________\n",
      "embedding (Embedding)        (None, 300, 128)          640000    \n",
      "_________________________________________________________________\n",
      "lstm (LSTM)                  (None, 128)               131584    \n",
      "_________________________________________________________________\n",
      "sigmoid (Dense)              (None, 5)                 645       \n",
      "=================================================================\n",
      "Total params: 772,229\n",
      "Trainable params: 772,229\n",
      "Non-trainable params: 0\n",
      "_________________________________________________________________\n",
      "None\n",
      "Train on 111330 samples, validate on 12370 samples\n",
      "Epoch 1/20\n",
      "111330/111330 [==============================] - 33s 294us/step - loss: 0.4756 - acc: 0.7969 - val_loss: 0.4148 - val_acc: 0.8300\n",
      "Epoch 2/20\n",
      "111330/111330 [==============================] - 31s 281us/step - loss: 0.3999 - acc: 0.8356 - val_loss: 0.3899 - val_acc: 0.8385\n",
      "Epoch 3/20\n",
      "111330/111330 [==============================] - 31s 280us/step - loss: 0.3763 - acc: 0.8451 - val_loss: 0.3758 - val_acc: 0.8439\n",
      "Epoch 4/20\n",
      "111330/111330 [==============================] - 31s 282us/step - loss: 0.3612 - acc: 0.8490 - val_loss: 0.3635 - val_acc: 0.8458\n",
      "Epoch 5/20\n",
      "111330/111330 [==============================] - 31s 280us/step - loss: 0.3422 - acc: 0.8523 - val_loss: 0.3459 - val_acc: 0.8478\n",
      "Epoch 6/20\n",
      "111330/111330 [==============================] - 31s 280us/step - loss: 0.3242 - acc: 0.8567 - val_loss: 0.3353 - val_acc: 0.8497\n",
      "Epoch 7/20\n",
      "111330/111330 [==============================] - 31s 280us/step - loss: 0.3152 - acc: 0.8602 - val_loss: 0.3298 - val_acc: 0.8522\n",
      "Epoch 8/20\n",
      "111330/111330 [==============================] - 31s 280us/step - loss: 0.3099 - acc: 0.8624 - val_loss: 0.3263 - val_acc: 0.8539\n",
      "Epoch 9/20\n",
      "111330/111330 [==============================] - 32s 284us/step - loss: 0.3057 - acc: 0.8646 - val_loss: 0.3239 - val_acc: 0.8547\n",
      "Epoch 10/20\n",
      "111330/111330 [==============================] - 32s 283us/step - loss: 0.3020 - acc: 0.8666 - val_loss: 0.3231 - val_acc: 0.8554\n",
      "Epoch 11/20\n",
      "111330/111330 [==============================] - 31s 282us/step - loss: 0.2989 - acc: 0.8684 - val_loss: 0.3222 - val_acc: 0.8559\n",
      "Epoch 12/20\n",
      "111330/111330 [==============================] - 31s 283us/step - loss: 0.2957 - acc: 0.8697 - val_loss: 0.3223 - val_acc: 0.8568\n",
      "Epoch 13/20\n",
      "111330/111330 [==============================] - 32s 284us/step - loss: 0.2929 - acc: 0.8710 - val_loss: 0.3217 - val_acc: 0.8574\n",
      "Epoch 14/20\n",
      "111330/111330 [==============================] - 31s 282us/step - loss: 0.2907 - acc: 0.8724 - val_loss: 0.3225 - val_acc: 0.8567\n",
      "Epoch 15/20\n",
      "111330/111330 [==============================] - 31s 282us/step - loss: 0.2883 - acc: 0.8733 - val_loss: 0.3209 - val_acc: 0.8565\n",
      "Epoch 16/20\n",
      "111330/111330 [==============================] - 32s 283us/step - loss: 0.2863 - acc: 0.8743 - val_loss: 0.3214 - val_acc: 0.8567\n",
      "Epoch 17/20\n",
      "111330/111330 [==============================] - 32s 284us/step - loss: 0.2840 - acc: 0.8756 - val_loss: 0.3214 - val_acc: 0.8573\n",
      "Epoch 18/20\n",
      "111330/111330 [==============================] - 32s 285us/step - loss: 0.2821 - acc: 0.8768 - val_loss: 0.3212 - val_acc: 0.8576\n",
      "Epoch 19/20\n",
      "111330/111330 [==============================] - 32s 286us/step - loss: 0.2802 - acc: 0.8775 - val_loss: 0.3211 - val_acc: 0.8571\n",
      "Epoch 20/20\n",
      "111330/111330 [==============================] - 31s 282us/step - loss: 0.2781 - acc: 0.8786 - val_loss: 0.3218 - val_acc: 0.8576\n"
     ]
    },
    {
     "data": {
      "image/png": "[encoded data removed]",
      "text/plain": [
       "<Figure size 432x288 with 1 Axes>"
      ]
     },
     "metadata": {},
     "output_type": "display_data"
    },
    {
     "data": {
      "image/png": "[encoded data removed]",
      "text/plain": [
       "<Figure size 432x288 with 1 Axes>"
      ]
     },
     "metadata": {},
     "output_type": "display_data"
    }
   ],
   "source": [
    "\n",
    "X_train, X_test, Y_train, Y_test, word_index, X_val, Y_val, tokenizer = prepare_data(df)\n",
    "print(X_train.shape,Y_train.shape)\n",
    "print(X_test.shape,Y_test.shape)\n",
    "    \n",
    "model = model()\n",
    "model.compile(loss = 'binary_crossentropy', optimizer='adam', metrics = ['accuracy'])\n",
    "print(model.summary())\n",
    "model = train(model, X_train, Y_train, X_val, Y_val)    \n",
    "y_pred = model.predict(X_test,batch_size=1024,verbose=5)\n"
   ]
  },
  {
   "cell_type": "code",
   "execution_count": 28,
   "metadata": {},
   "outputs": [
    {
     "name": "stdout",
     "output_type": "stream",
     "text": [
      "30925/30925 [==============================] - 7s 231us/step\n"
     ]
    }
   ],
   "source": [
    "loss, accuracy = model.evaluate(X_test, Y_test, batch_size=1000)"
   ]
  },
  {
   "cell_type": "markdown",
   "metadata": {},
   "source": [
    "# Loss e acurácia para o teste\n",
    "\n"
   ]
  },
  {
   "cell_type": "code",
   "execution_count": 45,
   "metadata": {},
   "outputs": [
    {
     "data": {
      "text/html": [
       "<div>\n",
       "<style scoped>\n",
       "    .dataframe tbody tr th:only-of-type {\n",
       "        vertical-align: middle;\n",
       "    }\n",
       "\n",
       "    .dataframe tbody tr th {\n",
       "        vertical-align: top;\n",
       "    }\n",
       "\n",
       "    .dataframe thead th {\n",
       "        text-align: right;\n",
       "    }\n",
       "</style>\n",
       "<table border=\"1\" class=\"dataframe\">\n",
       "  <thead>\n",
       "    <tr style=\"text-align: right;\">\n",
       "      <th></th>\n",
       "      <th>Loss</th>\n",
       "      <th>Accuracy</th>\n",
       "    </tr>\n",
       "  </thead>\n",
       "  <tbody>\n",
       "    <tr>\n",
       "      <th>0</th>\n",
       "      <td>0.320693</td>\n",
       "      <td>0.859512</td>\n",
       "    </tr>\n",
       "  </tbody>\n",
       "</table>\n",
       "</div>"
      ],
      "text/plain": [
       "       Loss  Accuracy\n",
       "0  0.320693  0.859512"
      ]
     },
     "execution_count": 45,
     "metadata": {},
     "output_type": "execute_result"
    }
   ],
   "source": [
    "data = {'Loss': loss, 'Accuracy': accuracy}\n",
    "pd.DataFrame(data, columns=[\"Loss\", \"Accuracy\"], index=[0])"
   ]
  }
 ],
 "metadata": {
  "kernelspec": {
   "display_name": "Python 3",
   "language": "python",
   "name": "python3"
  },
  "language_info": {
   "codemirror_mode": {
    "name": "ipython",
    "version": 3
   },
   "file_extension": ".py",
   "mimetype": "text/x-python",
   "name": "python",
   "nbconvert_exporter": "python",
   "pygments_lexer": "ipython3",
   "version": "3.6.8"
  }
 },
 "nbformat": 4,
 "nbformat_minor": 1
}
